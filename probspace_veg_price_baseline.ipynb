{
  "nbformat": 4,
  "nbformat_minor": 0,
  "metadata": {
    "colab": {
      "provenance": [],
      "authorship_tag": "ABX9TyOtBKK7FyHK/2K5LRzjh1xF"
    },
    "kernelspec": {
      "name": "python3",
      "display_name": "Python 3"
    },
    "language_info": {
      "name": "python"
    }
  },
  "cells": [
    {
      "cell_type": "code",
      "execution_count": 1,
      "metadata": {
        "colab": {
          "base_uri": "https://localhost:8080/"
        },
        "id": "Zodyl_mNS9on",
        "outputId": "f6fd7825-d022-4870-a5a9-f03567031205"
      },
      "outputs": [
        {
          "output_type": "stream",
          "name": "stdout",
          "text": [
            "Mounted at /content/drive\n"
          ]
        }
      ],
      "source": [
        "import pandas as pd\n",
        "import numpy as np\n",
        "from google.colab import drive\n",
        "drive.mount('/content/drive')\n",
        "folder_path = [FOLDER_PATH]"
      ]
    },
    {
      "cell_type": "markdown",
      "source": [
        "ベースラインとして、train_dataの11月と12月データだけ考えてみる(気温の影響は前月の値段に一定含有されているので一旦無視)\n",
        "\n",
        "\n",
        "具体的には2019年11月のデータに、2016と2018の12月/11月比を用いて補正する。(2017は動態が微妙に異なるため除外、excelの簡易計算でも2016.18の結果を使う方が良い値)"
      ],
      "metadata": {
        "id": "GSMYaecq8lzw"
      }
    },
    {
      "cell_type": "code",
      "source": [
        "train_df = pd.read_csv(folder_path + \"train_data.csv\")\n",
        "train_df.set_index('id', inplace=True)\n",
        "train_df = train_df.T"
      ],
      "metadata": {
        "id": "0IvFV-CeTMur"
      },
      "execution_count": 2,
      "outputs": []
    },
    {
      "cell_type": "code",
      "source": [
        "nov_dec_ratio_2016 = train_df[\"2016-12-01\"] / train_df[\"2016-11-01\"]\n",
        "nov_dec_ratio_2018 = train_df[\"2018-12-01\"] / train_df[\"2018-11-01\"]\n",
        "nov_dec_ratio = (nov_dec_ratio_2016 + nov_dec_ratio_2018) / 2\n",
        "pred = (train_df[\"2019-11-01\"] * nov_dec_ratio).round(0)# （参考：ここまででpublic 0.14525、private 0.16944"
      ],
      "metadata": {
        "id": "84YEkZhkTRkW"
      },
      "execution_count": 3,
      "outputs": []
    },
    {
      "cell_type": "markdown",
      "source": [
        "一通り価格推移を眺めてみて、特異な３種類の野菜だけ特別な対応をいれる"
      ],
      "metadata": {
        "id": "z6voE6kE8eFM"
      }
    },
    {
      "cell_type": "code",
      "source": [
        "#みつばは12月に必ず高騰する。2016-18の12月の平均値を使うことにする\n",
        "dec_ave = ((train_df[\"2016-12-01\"] + train_df[\"2017-12-01\"] + train_df[\"2018-12-01\"]) / 3).round(0)\n",
        "combined_df = pd.concat([pred, dec_ave], axis=1, keys=['pred', 'pred_sub'])\n",
        "condition = combined_df.index.str.contains('みつば')\n",
        "pred = pd.Series([combined_df.loc[idx, 'pred_sub'] if cond else combined_df.loc[idx, 'pred'] for idx, cond in zip(combined_df.index, condition)], index=combined_df.index)"
      ],
      "metadata": {
        "id": "r6ycpFuaXj91"
      },
      "execution_count": 4,
      "outputs": []
    },
    {
      "cell_type": "code",
      "source": [
        "#キャベツは基本的に上がったり下がったりをする。12月/11月比がx0.6-0.7になってしまっているが、これはたまたま。2019/11の値のままにする\n",
        "combined_df = pd.concat([train_df[\"2019-11-01\"], pred], axis=1, keys=['nov_val', 'pred'])\n",
        "condition = combined_df.index.str.contains('キャベツ')\n",
        "pred = pd.Series([combined_df.loc[idx, 'nov_val'] if cond else combined_df.loc[idx, 'pred'] for idx, cond in zip(combined_df.index, condition)], index=combined_df.index)"
      ],
      "metadata": {
        "id": "wNHOzNdTeQQI"
      },
      "execution_count": 5,
      "outputs": []
    },
    {
      "cell_type": "code",
      "source": [
        "#にんじんは直近安定しているが過去の暴騰暴落の影響で12月/11月比がx0.67されている。小さい価格なので影響が大きい。最後は横ばいなので2019/11の値のままにする\n",
        "combined_df = pd.concat([train_df[\"2019-11-01\"], pred], axis=1, keys=['nov_val', 'pred'])\n",
        "condition = combined_df.index.str.contains('にんじん')\n",
        "pred = pd.Series([combined_df.loc[idx, 'nov_val'] if cond else combined_df.loc[idx, 'pred'] for idx, cond in zip(combined_df.index, condition)], index=combined_df.index)"
      ],
      "metadata": {
        "id": "nTVfT3vP1vdO"
      },
      "execution_count": 6,
      "outputs": []
    },
    {
      "cell_type": "markdown",
      "source": [
        "過去の5%-95%の値に収める(評価指標的に、大外れすると悪影響が大きいので)"
      ],
      "metadata": {
        "id": "E28sTMqB9LT5"
      }
    },
    {
      "cell_type": "code",
      "source": [
        "min_df = train_df.min(axis=1)\n",
        "max_df = train_df.max(axis=1)\n",
        "diff = max_df - min_df\n",
        "\n",
        "min_df = min_df + diff * 0.05\n",
        "max_df = max_df - diff * 0.05\n",
        "pred = np.where(pred < min_df, min_df, pred)\n",
        "pred = np.where(pred > max_df, max_df, pred)\n",
        "pred = pd.Series(pred,index=train_df.index).round(0)"
      ],
      "metadata": {
        "id": "aV8aULHe5qCv"
      },
      "execution_count": null,
      "outputs": []
    },
    {
      "cell_type": "code",
      "source": [
        "#リリース処理\n",
        "pred_upd = pd.DataFrame(pred).reset_index()\n",
        "pred_upd.columns = [\"id\", \"y\"]\n",
        "pred_upd.to_csv(\"submit.csv\", index=False) #public 0.12259、private 0.14407"
      ],
      "metadata": {
        "id": "j9zVMIb4QoXr"
      },
      "execution_count": null,
      "outputs": []
    }
  ]
}